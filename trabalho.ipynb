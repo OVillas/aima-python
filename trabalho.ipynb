{
 "cells": [
  {
   "cell_type": "code",
   "execution_count": 1,
   "metadata": {},
   "outputs": [],
   "source": [
    "from search_recipiente import *"
   ]
  },
  {
   "cell_type": "code",
   "execution_count": 2,
   "metadata": {},
   "outputs": [],
   "source": [
    "# Ações do problema\n",
    "grafo = {\n",
    "    (0,0): [(5,0), (0,3)],\n",
    "    (5,0): [(0,0), (5,3), (2,3)],\n",
    "    (0,3): [(0,0), (5,3), (3,0)],\n",
    "    (5,3): [(0,3), (5,0)],\n",
    "    (2,3): [(0,3), (2,0), (5,3), (5,0)],\n",
    "    (3,0): [(0,0), (3,3), (0,3)],\n",
    "    (2,0): [(0,0), (5,0), (2,3), (0,2)],\n",
    "    (3,3): [(0,3), (3,0), (5,3), (5,1)],\n",
    "    (0,2): [(0,0), (5,2), (0,3), (2,0)],\n",
    "    (5,1): [(0,1), (5,0), (5,3), (3,3)],\n",
    "    (5,2): [(0,2), (5,0), (5,3), (4,3)],\n",
    "    (0,1): [(0,0), (5,1), (0,3), (1,0)],\n",
    "    (4,3): [(0,3), (4,0), (5,3), (5,2)],\n",
    "    (1,0): [(0,0), (5,0), (1,3), (0,1)],\n",
    "    (4,0): [(0,0), (5,0), (4,3), (1,3)],\n",
    "    (1,3): [(0,3), (1,0), (5,3), (4,0)],  \n",
    "}"
   ]
  },
  {
   "cell_type": "code",
   "execution_count": 3,
   "metadata": {},
   "outputs": [],
   "source": [
    "estado_inicial = (0,0)\n",
    "estado_final = (4,0)\n",
    "\n",
    "problema = Problem(estado_inicial, estado_final, grafo)"
   ]
  },
  {
   "cell_type": "code",
   "execution_count": 4,
   "metadata": {},
   "outputs": [
    {
     "name": "stdout",
     "output_type": "stream",
     "text": [
      "Solução em largura: [(0, 0), (5, 0), (2, 3), (2, 0), (0, 2), (5, 2), (4, 3), (4, 0)]\n",
      "Quantidade de caminhos em largura: 13\n"
     ]
    }
   ],
   "source": [
    "resultado_busca_em_largura, cont = breadth_first_graph_search(problema)\n",
    "\n",
    "solucao_busca_em_largura = resultado_busca_em_largura.solution()\n",
    "\n",
    "solucao_busca_em_largura.insert(0, estado_inicial)\n",
    "\n",
    "print(\"Solução em largura:\", solucao_busca_em_largura)\n",
    "print(\"Quantidade de caminhos em largura:\", cont)"
   ]
  },
  {
   "cell_type": "code",
   "execution_count": 5,
   "metadata": {},
   "outputs": [
    {
     "name": "stdout",
     "output_type": "stream",
     "text": [
      "Solução em profundidade: [(0, 0), (0, 3), (3, 0), (3, 3), (5, 1), (0, 1), (1, 0), (1, 3), (4, 0)]\n",
      "Quantidade de caminhos em profundidade: 9\n"
     ]
    }
   ],
   "source": [
    "resultado_busca_em_profundidade, quantidade_de_caminhos = depth_first_graph_search(problema)\n",
    "\n",
    "solucao_busca_em_profundidade = resultado_busca_em_profundidade.solution()\n",
    "\n",
    "solucao_busca_em_profundidade.insert(0, estado_inicial)\n",
    "\n",
    "print(\"Solução em profundidade:\", solucao_busca_em_profundidade)\n",
    "print(\"Quantidade de caminhos em profundidade:\", quantidade_de_caminhos)"
   ]
  },
  {
   "cell_type": "code",
   "execution_count": 6,
   "metadata": {},
   "outputs": [
    {
     "name": "stdout",
     "output_type": "stream",
     "text": [
      "Solução em profundidade limitada: [(0, 0), (5, 0), (0, 0), (5, 0), (2, 3), (2, 0), (0, 2), (5, 2), (4, 3), (4, 0)]\n"
     ]
    }
   ],
   "source": [
    "resultado_busca_em_profundidade_limitada = depth_limited_search(problema, 10)\n",
    "\n",
    "solucao_busca_em_profundidade_limitada = resultado_busca_em_profundidade_limitada.solution()\n",
    "\n",
    "solucao_busca_em_profundidade_limitada.insert(0, estado_inicial)\n",
    "\n",
    "print(\"Solução em profundidade limitada:\", solucao_busca_em_profundidade_limitada)"
   ]
  },
  {
   "cell_type": "code",
   "execution_count": 7,
   "metadata": {},
   "outputs": [
    {
     "name": "stdout",
     "output_type": "stream",
     "text": [
      "Solução em profundidade iterativa: [(0, 0), (5, 0), (2, 3), (2, 0), (0, 2), (5, 2), (4, 3), (4, 0)]\n"
     ]
    }
   ],
   "source": [
    "resultado_busca_em_profundidade_iterativa = iterative_deepening_search(problema)\n",
    "\n",
    "solucao_busca_em_profundidade_iterativa = resultado_busca_em_profundidade_iterativa.solution()\n",
    "\n",
    "solucao_busca_em_profundidade_iterativa.insert(0, estado_inicial)\n",
    "\n",
    "print(\"Solução em profundidade iterativa:\", solucao_busca_em_profundidade_iterativa)"
   ]
  }
 ],
 "metadata": {
  "kernelspec": {
   "display_name": "Python 3",
   "language": "python",
   "name": "python3"
  },
  "language_info": {
   "codemirror_mode": {
    "name": "ipython",
    "version": 3
   },
   "file_extension": ".py",
   "mimetype": "text/x-python",
   "name": "python",
   "nbconvert_exporter": "python",
   "pygments_lexer": "ipython3",
   "version": "3.12.2"
  }
 },
 "nbformat": 4,
 "nbformat_minor": 2
}
