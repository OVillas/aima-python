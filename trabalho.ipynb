{
 "cells": [
  {
   "cell_type": "code",
   "execution_count": 1,
   "metadata": {},
   "outputs": [],
   "source": [
    "from search_recipiente import *"
   ]
  },
  {
   "cell_type": "code",
   "execution_count": 3,
   "metadata": {},
   "outputs": [],
   "source": [
    "# Ações do problema\n",
    "grafo = {\n",
    "    (0,0): [(5,0), (0,3)],\n",
    "    (5,0): [(0,0), (5,3), (2,3)],\n",
    "    (0,3): [(0,0), (5,3), (3,0)],\n",
    "    (5,3): [(0,3), (5,0)],\n",
    "    (2,3): [(0,3), (2,0), (5,3), (5,0)],\n",
    "    (3,0): [(0,0), (3,3), (0,3)],\n",
    "    (2,0): [(0,0), (5,0), (2,3), (0,2)],\n",
    "    (3,3): [(0,3), (3,0), (5,3), (5,1)],\n",
    "    (0,2): [(0,0), (5,2), (0,3), (2,0)],\n",
    "    (5,1): [(0,1), (5,0), (5,3), (3,3)],\n",
    "    (5,2): [(0,2), (5,0), (5,3), (4,3)],\n",
    "    (0,1): [(0,0), (5,1), (0,3), (1,0)],\n",
    "    (4,3): [(0,3), (4,0), (5,3), (5,2)],\n",
    "    (1,0): [(0,0), (5,0), (1,3), (0,1)],\n",
    "    (4,0): [(0,0), (5,0), (4,3), (1,3)],\n",
    "    (1,3): [(0,3), (1,0), (5,3), (4,0)],  \n",
    "}"
   ]
  },
  {
   "cell_type": "code",
   "execution_count": 4,
   "metadata": {},
   "outputs": [],
   "source": [
    "estado_inicial = (0,0)\n",
    "estado_final = [(4,0), (4,3)]\n",
    "\n",
    "problema = Problem(estado_inicial, estado_final, grafo)"
   ]
  },
  {
   "cell_type": "code",
   "execution_count": 5,
   "metadata": {},
   "outputs": [
    {
     "ename": "AttributeError",
     "evalue": "'NoneType' object has no attribute 'solution'",
     "output_type": "error",
     "traceback": [
      "\u001b[1;31m---------------------------------------------------------------------------\u001b[0m",
      "\u001b[1;31mAttributeError\u001b[0m                            Traceback (most recent call last)",
      "Cell \u001b[1;32mIn[5], line 3\u001b[0m\n\u001b[0;32m      1\u001b[0m resultado_busca_em_largura, cont \u001b[38;5;241m=\u001b[39m breadth_first_graph_search(problema)\n\u001b[1;32m----> 3\u001b[0m solucao_busca_em_largura \u001b[38;5;241m=\u001b[39m \u001b[43mresultado_busca_em_largura\u001b[49m\u001b[38;5;241;43m.\u001b[39;49m\u001b[43msolution\u001b[49m()\n\u001b[0;32m      5\u001b[0m solucao_busca_em_largura\u001b[38;5;241m.\u001b[39minsert(\u001b[38;5;241m0\u001b[39m, estado_inicial)\n\u001b[0;32m      7\u001b[0m \u001b[38;5;28mprint\u001b[39m(\u001b[38;5;124m\"\u001b[39m\u001b[38;5;124mSolução em largura:\u001b[39m\u001b[38;5;124m\"\u001b[39m, solucao_busca_em_largura)\n",
      "\u001b[1;31mAttributeError\u001b[0m: 'NoneType' object has no attribute 'solution'"
     ]
    }
   ],
   "source": [
    "resultado_busca_em_largura, cont = breadth_first_graph_search(problema)\n",
    "\n",
    "solucao_busca_em_largura = resultado_busca_em_largura.solution()\n",
    "\n",
    "solucao_busca_em_largura.insert(0, estado_inicial)\n",
    "\n",
    "print(\"Solução em largura:\", solucao_busca_em_largura)\n",
    "print(\"Quantidade de caminhos em largura:\", cont)"
   ]
  },
  {
   "cell_type": "code",
   "execution_count": 5,
   "metadata": {},
   "outputs": [
    {
     "name": "stdout",
     "output_type": "stream",
     "text": [
      "Solução em profundidade: [(0, 0), (0, 3), (3, 0), (3, 3), (5, 1), (0, 1), (1, 0), (1, 3), (4, 0)]\n",
      "Quantidade de caminhos em profundidade: 9\n"
     ]
    }
   ],
   "source": [
    "resultado_busca_em_profundidade, quantidade_de_caminhos = depth_first_graph_search(problema)\n",
    "\n",
    "solucao_busca_em_profundidade = resultado_busca_em_profundidade.solution()\n",
    "\n",
    "solucao_busca_em_profundidade.insert(0, estado_inicial)\n",
    "\n",
    "print(\"Solução em profundidade:\", solucao_busca_em_profundidade)\n",
    "print(\"Quantidade de caminhos em profundidade:\", quantidade_de_caminhos)"
   ]
  },
  {
   "cell_type": "code",
   "execution_count": null,
   "metadata": {},
   "outputs": [
    {
     "name": "stdout",
     "output_type": "stream",
     "text": [
      "Solução em profundidade limitada: [(0, 0), (5, 0), (0, 0), (5, 0), (2, 3), (2, 0), (0, 2), (5, 2), (4, 3), (4, 0)]\n"
     ]
    }
   ],
   "source": [
    "resultado_busca_em_profundidade_limitada = depth_limited_search(problema, 10)\n",
    "\n",
    "solucao_busca_em_profundidade_limitada = resultado_busca_em_profundidade_limitada.solution()\n",
    "\n",
    "solucao_busca_em_profundidade_limitada.insert(0, estado_inicial)\n",
    "\n",
    "print(\"Solução em profundidade limitada:\", solucao_busca_em_profundidade_limitada)"
   ]
  },
  {
   "cell_type": "code",
   "execution_count": 10,
   "metadata": {},
   "outputs": [
    {
     "ename": "KeyboardInterrupt",
     "evalue": "",
     "output_type": "error",
     "traceback": [
      "\u001b[1;31m---------------------------------------------------------------------------\u001b[0m",
      "\u001b[1;31mKeyboardInterrupt\u001b[0m                         Traceback (most recent call last)",
      "Cell \u001b[1;32mIn[10], line 1\u001b[0m\n\u001b[1;32m----> 1\u001b[0m resultado_busca_em_profundidade_iterativa \u001b[38;5;241m=\u001b[39m \u001b[43miterative_deepening_search\u001b[49m\u001b[43m(\u001b[49m\u001b[43mproblema\u001b[49m\u001b[43m)\u001b[49m\n\u001b[0;32m      3\u001b[0m solucao_busca_em_profundidade_iterativa \u001b[38;5;241m=\u001b[39m resultado_busca_em_profundidade_iterativa\u001b[38;5;241m.\u001b[39msolution()\n\u001b[0;32m      5\u001b[0m solucao_busca_em_profundidade_iterativa\u001b[38;5;241m.\u001b[39minsert(\u001b[38;5;241m0\u001b[39m, estado_inicial)\n",
      "File \u001b[1;32mc:\\Users\\gabriel\\Documents\\projetos\\python\\aima-python\\search_recipiente.py:119\u001b[0m, in \u001b[0;36miterative_deepening_search\u001b[1;34m(problem)\u001b[0m\n\u001b[0;32m    117\u001b[0m \u001b[38;5;28;01mdef\u001b[39;00m \u001b[38;5;21miterative_deepening_search\u001b[39m(problem):\n\u001b[0;32m    118\u001b[0m     \u001b[38;5;28;01mfor\u001b[39;00m depth \u001b[38;5;129;01min\u001b[39;00m \u001b[38;5;28mrange\u001b[39m(sys\u001b[38;5;241m.\u001b[39mmaxsize):\n\u001b[1;32m--> 119\u001b[0m         result \u001b[38;5;241m=\u001b[39m \u001b[43mdepth_limited_search\u001b[49m\u001b[43m(\u001b[49m\u001b[43mproblem\u001b[49m\u001b[43m,\u001b[49m\u001b[43m \u001b[49m\u001b[43mdepth\u001b[49m\u001b[43m)\u001b[49m\n\u001b[0;32m    120\u001b[0m         \u001b[38;5;28;01mif\u001b[39;00m result \u001b[38;5;241m!=\u001b[39m \u001b[38;5;124m'\u001b[39m\u001b[38;5;124mcutoff\u001b[39m\u001b[38;5;124m'\u001b[39m:\n\u001b[0;32m    121\u001b[0m             \u001b[38;5;28;01mreturn\u001b[39;00m result\n",
      "File \u001b[1;32mc:\\Users\\gabriel\\Documents\\projetos\\python\\aima-python\\search_recipiente.py:114\u001b[0m, in \u001b[0;36mdepth_limited_search\u001b[1;34m(problem, limit)\u001b[0m\n\u001b[0;32m    111\u001b[0m                 \u001b[38;5;28;01mreturn\u001b[39;00m result\n\u001b[0;32m    112\u001b[0m         \u001b[38;5;28;01mreturn\u001b[39;00m \u001b[38;5;124m'\u001b[39m\u001b[38;5;124mcutoff\u001b[39m\u001b[38;5;124m'\u001b[39m \u001b[38;5;28;01mif\u001b[39;00m cutoff_occurred \u001b[38;5;28;01melse\u001b[39;00m \u001b[38;5;28;01mNone\u001b[39;00m\n\u001b[1;32m--> 114\u001b[0m \u001b[38;5;28;01mreturn\u001b[39;00m \u001b[43mrecursive_dls\u001b[49m\u001b[43m(\u001b[49m\u001b[43mNode\u001b[49m\u001b[43m(\u001b[49m\u001b[43mproblem\u001b[49m\u001b[38;5;241;43m.\u001b[39;49m\u001b[43minitial\u001b[49m\u001b[43m)\u001b[49m\u001b[43m,\u001b[49m\u001b[43m \u001b[49m\u001b[43mproblem\u001b[49m\u001b[43m,\u001b[49m\u001b[43m \u001b[49m\u001b[43mlimit\u001b[49m\u001b[43m)\u001b[49m\n",
      "File \u001b[1;32mc:\\Users\\gabriel\\Documents\\projetos\\python\\aima-python\\search_recipiente.py:107\u001b[0m, in \u001b[0;36mdepth_limited_search.<locals>.recursive_dls\u001b[1;34m(node, problem, limit)\u001b[0m\n\u001b[0;32m    105\u001b[0m cutoff_occurred \u001b[38;5;241m=\u001b[39m \u001b[38;5;28;01mFalse\u001b[39;00m\n\u001b[0;32m    106\u001b[0m \u001b[38;5;28;01mfor\u001b[39;00m child \u001b[38;5;129;01min\u001b[39;00m node\u001b[38;5;241m.\u001b[39mexpand(problem):\n\u001b[1;32m--> 107\u001b[0m     result \u001b[38;5;241m=\u001b[39m \u001b[43mrecursive_dls\u001b[49m\u001b[43m(\u001b[49m\u001b[43mchild\u001b[49m\u001b[43m,\u001b[49m\u001b[43m \u001b[49m\u001b[43mproblem\u001b[49m\u001b[43m,\u001b[49m\u001b[43m \u001b[49m\u001b[43mlimit\u001b[49m\u001b[43m \u001b[49m\u001b[38;5;241;43m-\u001b[39;49m\u001b[43m \u001b[49m\u001b[38;5;241;43m1\u001b[39;49m\u001b[43m)\u001b[49m\n\u001b[0;32m    108\u001b[0m     \u001b[38;5;28;01mif\u001b[39;00m result \u001b[38;5;241m==\u001b[39m \u001b[38;5;124m'\u001b[39m\u001b[38;5;124mcutoff\u001b[39m\u001b[38;5;124m'\u001b[39m:\n\u001b[0;32m    109\u001b[0m         cutoff_occurred \u001b[38;5;241m=\u001b[39m \u001b[38;5;28;01mTrue\u001b[39;00m\n",
      "File \u001b[1;32mc:\\Users\\gabriel\\Documents\\projetos\\python\\aima-python\\search_recipiente.py:107\u001b[0m, in \u001b[0;36mdepth_limited_search.<locals>.recursive_dls\u001b[1;34m(node, problem, limit)\u001b[0m\n\u001b[0;32m    105\u001b[0m cutoff_occurred \u001b[38;5;241m=\u001b[39m \u001b[38;5;28;01mFalse\u001b[39;00m\n\u001b[0;32m    106\u001b[0m \u001b[38;5;28;01mfor\u001b[39;00m child \u001b[38;5;129;01min\u001b[39;00m node\u001b[38;5;241m.\u001b[39mexpand(problem):\n\u001b[1;32m--> 107\u001b[0m     result \u001b[38;5;241m=\u001b[39m \u001b[43mrecursive_dls\u001b[49m\u001b[43m(\u001b[49m\u001b[43mchild\u001b[49m\u001b[43m,\u001b[49m\u001b[43m \u001b[49m\u001b[43mproblem\u001b[49m\u001b[43m,\u001b[49m\u001b[43m \u001b[49m\u001b[43mlimit\u001b[49m\u001b[43m \u001b[49m\u001b[38;5;241;43m-\u001b[39;49m\u001b[43m \u001b[49m\u001b[38;5;241;43m1\u001b[39;49m\u001b[43m)\u001b[49m\n\u001b[0;32m    108\u001b[0m     \u001b[38;5;28;01mif\u001b[39;00m result \u001b[38;5;241m==\u001b[39m \u001b[38;5;124m'\u001b[39m\u001b[38;5;124mcutoff\u001b[39m\u001b[38;5;124m'\u001b[39m:\n\u001b[0;32m    109\u001b[0m         cutoff_occurred \u001b[38;5;241m=\u001b[39m \u001b[38;5;28;01mTrue\u001b[39;00m\n",
      "    \u001b[1;31m[... skipping similar frames: depth_limited_search.<locals>.recursive_dls at line 107 (12 times)]\u001b[0m\n",
      "File \u001b[1;32mc:\\Users\\gabriel\\Documents\\projetos\\python\\aima-python\\search_recipiente.py:107\u001b[0m, in \u001b[0;36mdepth_limited_search.<locals>.recursive_dls\u001b[1;34m(node, problem, limit)\u001b[0m\n\u001b[0;32m    105\u001b[0m cutoff_occurred \u001b[38;5;241m=\u001b[39m \u001b[38;5;28;01mFalse\u001b[39;00m\n\u001b[0;32m    106\u001b[0m \u001b[38;5;28;01mfor\u001b[39;00m child \u001b[38;5;129;01min\u001b[39;00m node\u001b[38;5;241m.\u001b[39mexpand(problem):\n\u001b[1;32m--> 107\u001b[0m     result \u001b[38;5;241m=\u001b[39m \u001b[43mrecursive_dls\u001b[49m\u001b[43m(\u001b[49m\u001b[43mchild\u001b[49m\u001b[43m,\u001b[49m\u001b[43m \u001b[49m\u001b[43mproblem\u001b[49m\u001b[43m,\u001b[49m\u001b[43m \u001b[49m\u001b[43mlimit\u001b[49m\u001b[43m \u001b[49m\u001b[38;5;241;43m-\u001b[39;49m\u001b[43m \u001b[49m\u001b[38;5;241;43m1\u001b[39;49m\u001b[43m)\u001b[49m\n\u001b[0;32m    108\u001b[0m     \u001b[38;5;28;01mif\u001b[39;00m result \u001b[38;5;241m==\u001b[39m \u001b[38;5;124m'\u001b[39m\u001b[38;5;124mcutoff\u001b[39m\u001b[38;5;124m'\u001b[39m:\n\u001b[0;32m    109\u001b[0m         cutoff_occurred \u001b[38;5;241m=\u001b[39m \u001b[38;5;28;01mTrue\u001b[39;00m\n",
      "File \u001b[1;32mc:\\Users\\gabriel\\Documents\\projetos\\python\\aima-python\\search_recipiente.py:106\u001b[0m, in \u001b[0;36mdepth_limited_search.<locals>.recursive_dls\u001b[1;34m(node, problem, limit)\u001b[0m\n\u001b[0;32m    104\u001b[0m \u001b[38;5;28;01melse\u001b[39;00m:\n\u001b[0;32m    105\u001b[0m     cutoff_occurred \u001b[38;5;241m=\u001b[39m \u001b[38;5;28;01mFalse\u001b[39;00m\n\u001b[1;32m--> 106\u001b[0m     \u001b[38;5;28;01mfor\u001b[39;00m child \u001b[38;5;129;01min\u001b[39;00m \u001b[43mnode\u001b[49m\u001b[38;5;241;43m.\u001b[39;49m\u001b[43mexpand\u001b[49m\u001b[43m(\u001b[49m\u001b[43mproblem\u001b[49m\u001b[43m)\u001b[49m:\n\u001b[0;32m    107\u001b[0m         result \u001b[38;5;241m=\u001b[39m recursive_dls(child, problem, limit \u001b[38;5;241m-\u001b[39m \u001b[38;5;241m1\u001b[39m)\n\u001b[0;32m    108\u001b[0m         \u001b[38;5;28;01mif\u001b[39;00m result \u001b[38;5;241m==\u001b[39m \u001b[38;5;124m'\u001b[39m\u001b[38;5;124mcutoff\u001b[39m\u001b[38;5;124m'\u001b[39m:\n",
      "File \u001b[1;32mc:\\Users\\gabriel\\Documents\\projetos\\python\\aima-python\\search_recipiente.py:39\u001b[0m, in \u001b[0;36mNode.expand\u001b[1;34m(self, problem)\u001b[0m\n\u001b[0;32m     38\u001b[0m \u001b[38;5;28;01mdef\u001b[39;00m \u001b[38;5;21mexpand\u001b[39m(\u001b[38;5;28mself\u001b[39m, problem):\n\u001b[1;32m---> 39\u001b[0m     \u001b[38;5;28;01mreturn\u001b[39;00m [\u001b[38;5;28mself\u001b[39m\u001b[38;5;241m.\u001b[39mchild_node(problem, action)\n\u001b[0;32m     40\u001b[0m             \u001b[38;5;28;01mfor\u001b[39;00m action \u001b[38;5;129;01min\u001b[39;00m problem\u001b[38;5;241m.\u001b[39mactions(\u001b[38;5;28mself\u001b[39m\u001b[38;5;241m.\u001b[39mstate)]\n",
      "\u001b[1;31mKeyboardInterrupt\u001b[0m: "
     ]
    }
   ],
   "source": [
    "resultado_busca_em_profundidade_iterativa = iterative_deepening_search(problema)\n",
    "\n",
    "solucao_busca_em_profundidade_iterativa = resultado_busca_em_profundidade_iterativa.solution()\n",
    "\n",
    "solucao_busca_em_profundidade_iterativa.insert(0, estado_inicial)\n",
    "\n",
    "print(\"Solução em profundidade iterativa:\", solucao_busca_em_profundidade_iterativa)"
   ]
  }
 ],
 "metadata": {
  "kernelspec": {
   "display_name": "Python 3",
   "language": "python",
   "name": "python3"
  },
  "language_info": {
   "codemirror_mode": {
    "name": "ipython",
    "version": 3
   },
   "file_extension": ".py",
   "mimetype": "text/x-python",
   "name": "python",
   "nbconvert_exporter": "python",
   "pygments_lexer": "ipython3",
   "version": "3.12.2"
  }
 },
 "nbformat": 4,
 "nbformat_minor": 2
}
